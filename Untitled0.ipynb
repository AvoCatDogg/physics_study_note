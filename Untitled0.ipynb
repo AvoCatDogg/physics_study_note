{
  "nbformat": 4,
  "nbformat_minor": 0,
  "metadata": {
    "colab": {
      "provenance": [],
      "authorship_tag": "ABX9TyOGAjyqM/x+2/3ny0OX9egn",
      "include_colab_link": true
    },
    "kernelspec": {
      "name": "python3",
      "display_name": "Python 3"
    },
    "language_info": {
      "name": "python"
    }
  },
  "cells": [
    {
      "cell_type": "markdown",
      "metadata": {
        "id": "view-in-github",
        "colab_type": "text"
      },
      "source": [
        "<a href=\"https://colab.research.google.com/github/AvoCatDogg/physics_study_note/blob/main/Untitled0.ipynb\" target=\"_parent\"><img src=\"https://colab.research.google.com/assets/colab-badge.svg\" alt=\"Open In Colab\"/></a>"
      ]
    },
    {
      "cell_type": "code",
      "source": [
        "import numpy as np\n",
        "a = np.array(([[1,1,1],\n",
        "               [1,1,1],\n",
        "               [1,1,1]],\n",
        "              [[2,2,2],\n",
        "               [2,2,2],\n",
        "               [2,2,2]],\n",
        "              [[3,3,3],\n",
        "               [3,3,3],\n",
        "               [3,3,3]],\n",
        "              [[4,4,4],\n",
        "               [4,4,4],\n",
        "               [4,4,4]]))\n",
        "\n",
        "z = np.zeros((3,3,5))\n",
        "f = np.ones((5,4,3,3)) * 2\n",
        "#output은 3,3,5, 정확히는.. 1,5\n",
        "z[0,0] = np.sum(a * f, axis = (1,2,3))\n",
        "np.sum(a * f, axis = (2,3)).shape\n",
        "print(z)"
      ],
      "metadata": {
        "id": "qMKvx-1ynjwt",
        "colab": {
          "base_uri": "https://localhost:8080/"
        },
        "outputId": "d48371b8-2c60-4549-aef9-b8d2b48d554c"
      },
      "execution_count": null,
      "outputs": [
        {
          "output_type": "stream",
          "name": "stdout",
          "text": [
            "[[[180. 180. 180. 180. 180.]\n",
            "  [  0.   0.   0.   0.   0.]\n",
            "  [  0.   0.   0.   0.   0.]]\n",
            "\n",
            " [[  0.   0.   0.   0.   0.]\n",
            "  [  0.   0.   0.   0.   0.]\n",
            "  [  0.   0.   0.   0.   0.]]\n",
            "\n",
            " [[  0.   0.   0.   0.   0.]\n",
            "  [  0.   0.   0.   0.   0.]\n",
            "  [  0.   0.   0.   0.   0.]]]\n"
          ]
        }
      ]
    }
  ]
}